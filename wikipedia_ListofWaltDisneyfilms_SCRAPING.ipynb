{
  "nbformat": 4,
  "nbformat_minor": 0,
  "metadata": {
    "colab": {
      "provenance": [],
      "authorship_tag": "ABX9TyNgI9TKGyXkJvqnQ7jRmny6",
      "include_colab_link": true
    },
    "kernelspec": {
      "name": "python3",
      "display_name": "Python 3"
    },
    "language_info": {
      "name": "python"
    }
  },
  "cells": [
    {
      "cell_type": "markdown",
      "metadata": {
        "id": "view-in-github",
        "colab_type": "text"
      },
      "source": [
        "<a href=\"https://colab.research.google.com/github/hani-haddad/testpy/blob/master/wikipedia_ListofWaltDisneyfilms_SCRAPING.ipynb\" target=\"_parent\"><img src=\"https://colab.research.google.com/assets/colab-badge.svg\" alt=\"Open In Colab\"/></a>"
      ]
    },
    {
      "cell_type": "code",
      "execution_count": 2,
      "metadata": {
        "id": "88v5bwaI0kSs"
      },
      "outputs": [],
      "source": [
        "from bs4 import BeautifulSoup\n",
        "import requests\n",
        "import pandas as pd\n",
        "import numpy as np"
      ]
    },
    {
      "cell_type": "code",
      "source": [
        "page=requests.get(\"https://en.wikipedia.org/wiki/List_of_Walt_Disney_Pictures_films#Released\")\n",
        "page"
      ],
      "metadata": {
        "colab": {
          "base_uri": "https://localhost:8080/"
        },
        "id": "0zW_W_0J8d6h",
        "outputId": "84e0a40b-c9d7-4e69-aae0-dcb3242a9e2c"
      },
      "execution_count": 123,
      "outputs": [
        {
          "output_type": "execute_result",
          "data": {
            "text/plain": [
              "<Response [200]>"
            ]
          },
          "metadata": {},
          "execution_count": 123
        }
      ]
    },
    {
      "cell_type": "code",
      "source": [
        "soup = BeautifulSoup(page.content,'html.parser')\n",
        "print(soup.prettify())"
      ],
      "metadata": {
        "id": "N1R9aEGr8gHn"
      },
      "execution_count": null,
      "outputs": []
    },
    {
      "cell_type": "code",
      "source": [
        "def clean_br (rowD) :\n",
        "  if rowD.th.find(\"br\"):\n",
        "    return rowD.find(\"br\").previous_sibling+\" \"+rowD.find(\"br\").next_sibling\n",
        "  else:\n",
        "    return rowD.find(\"th\").text.strip()\n",
        "    \n",
        "def getMoviesDetails (Psoup):\n",
        "  table=Psoup.find(\"table\", {'class': 'infobox vevent'})\n",
        "  rows=table.find(\"tbody\").find_all('tr')\n",
        "  movies={}\n",
        "  for index,row in enumerate(rows):\n",
        "    if index==0:\n",
        "      movies['title']=row.find(\"th\").text\n",
        "    elif index==1: continue\n",
        "    else:\n",
        "      th=clean_br (row)\n",
        "      td=row.find('td').get_text(\" \",strip=True).strip().replace(\"\\n\",\",\").replace(\"\\xa0\",\" \").replace(\"[1]\",\"\")\n",
        "      movies[th]=td\n",
        "  print(movies)\n"
      ],
      "metadata": {
        "id": "_8tmHvdhlKjj"
      },
      "execution_count": 146,
      "outputs": []
    },
    {
      "cell_type": "code",
      "source": [
        "table = soup.find_all(\"table\",class_=\"wikitable sortable\")\n",
        "len(table)"
      ],
      "metadata": {
        "colab": {
          "base_uri": "https://localhost:8080/"
        },
        "id": "zRApoqvFfTH7",
        "outputId": "051d04b4-c0b0-41d3-c08b-24585646cb36"
      },
      "execution_count": 131,
      "outputs": [
        {
          "output_type": "execute_result",
          "data": {
            "text/plain": [
              "11"
            ]
          },
          "metadata": {},
          "execution_count": 131
        }
      ]
    },
    {
      "cell_type": "code",
      "source": [
        "def profileSoupGenerator (pageSoup,barNUM):\n",
        "  tables = soup.find_all(\"table\",class_=\"wikitable sortable\")\n",
        "  \n",
        "  for table in tables:\n",
        "    rows = table.find(\"tbody\").find_all('tr')\n",
        "    for row in rows:\n",
        "      if row.a:\n",
        "        l=\"https://en.wikipedia.org\"+row.a[\"href\"]\n",
        "        print(l)\n",
        "        nestedPage= requests.get(str(l))\n",
        "        movie_soup = BeautifulSoup(nestedPage.content,'html.parser')\n",
        "        getMoviesDetails(movie_soup)\n",
        "      else:\n",
        "        continue\n",
        "        \n",
        "        \n",
        "        #print(soups)\n",
        "profileSoupGenerator(soup,\"1031886\")"
      ],
      "metadata": {
        "colab": {
          "base_uri": "https://localhost:8080/",
          "height": 1000
        },
        "id": "BlC30-yoWWAH",
        "outputId": "5ba4718d-d820-442c-aafa-70f977564ad8"
      },
      "execution_count": 147,
      "outputs": [
        {
          "output_type": "stream",
          "name": "stdout",
          "text": [
            "https://en.wikipedia.org/wiki/Snow_White_and_the_Seven_Dwarfs_(1937_film)\n",
            "{'title': 'Snow White and the Seven Dwarfs', 'Directed by': 'Supervising Director David Hand Sequence Directors William Cottrell Wilfred Jackson Larry Morey Perce Pearce Ben Sharpsteen', 'Written by': 'Ted Sears Richard Creedon Otto Englander Dick Rickard Earl Hurd Merrill De Maris Dorothy Ann Blank Webb Smith', 'Based on': 'Snow White by The Brothers Grimm', 'Produced by': 'Walt Disney', 'Starring': 'Adriana Caselotti Lucille La Verne Harry Stockwell Roy Atwell Pinto Colvig Otis Harlan Scotty Mattraw Billy Gilbert Eddie Collins Moroni Olsen Stuart Buchanan', 'Music by': 'Frank Churchill Paul Smith Leigh Harline', 'Production company': 'Walt Disney Productions', 'Distributed by': 'RKO Radio Pictures', 'Release dates': 'December 21, 1937 ( 1937-12-21 ) ( Carthay Circle Theatre ) February 4, 1938 ( 1938-02-04 ) (United States)', 'Running time': '83 minutes', 'Country': 'United States', 'Language': 'English', 'Budget': '$1.49 million ', 'Box office': '$418 million [2]'}\n",
            "https://en.wikipedia.org/wiki/Pinocchio_(1940_film)\n",
            "{'title': 'Pinocchio', 'Directed by': 'Supervising Directors Ben Sharpsteen Hamilton Luske Sequence Directors Bill Roberts Norman Ferguson Jack Kinney Wilfred Jackson T. Hee', 'Story by': 'Ted Sears Otto Englander Webb Smith William Cottrell Joseph Sabo Erdman Penner Aurelius Battaglia', 'Based on': 'The Adventures of Pinocchio by Carlo Collodi', 'Produced by': 'Walt Disney', 'Starring': 'Cliff Edwards Dickie Jones Christian Rub Walter Catlett Charles Judels Evelyn Venable Frankie Darro', 'Music by': 'Leigh Harline Paul J. Smith', 'Production company': 'Walt Disney Productions', 'Distributed by': 'RKO Radio Pictures', 'Release dates': 'February 7, 1940 ( 1940-02-07 ) ( Center Theatre )  February 23, 1940 ( 1940-02-23 ) (United States) [2]', 'Running time': '88 minutes', 'Country': 'United States', 'Language': 'English', 'Budget': '$2.6 million [3]', 'Box office': '$164 million'}\n",
            "https://en.wikipedia.org/wiki/Fantasia_(1940_film)\n",
            "{'title': 'Fantasia', 'Directed by': 'Samuel Armstrong James Algar Bill Roberts Paul Satterfield Ben Sharpsteen David D. Hand Hamilton Luske Jim Handley Ford Beebe T. Hee Norman Ferguson Wilfred Jackson', 'Story by': 'Joe Grant Dick Huemer', 'Produced by': 'Walt Disney Ben Sharpsteen', 'Starring': 'Leopold Stokowski Deems Taylor', 'Narrated by': 'Deems Taylor', 'Cinematography': 'James Wong Howe', 'Music by': 'See program', 'Production company': 'Walt Disney Productions', 'Distributed by': 'RKO Radio Pictures', 'Release date': 'November 13, 1940 ( 1940-11-13 )', 'Running time': '126 minutes ', 'Country': 'United States', 'Language': 'English', 'Budget': '$2.28 million [2] [3]', 'Box office': '$76.4–$83.3 million (United States and Canada) [4] [5]'}\n",
            "https://en.wikipedia.org/wiki/The_Reluctant_Dragon_(1941_film)\n",
            "{'title': 'The Reluctant Dragon', 'Directed by': 'Alfred Werker (live action) Hamilton Luske (animation) Jack Cutting , Ub Iwerks , Jack Kinney (sequence directors)', 'Written by': 'Live-action: Ted Sears Al Perkins Larry Clemmons Bill Cottrell Harry Clork Robert Benchley The Reluctant Dragon segment: Kenneth Grahame (original book) Erdman Penner T. Hee Baby Weems segment: Joe Grant Dick Huemer John Miller', 'Produced by': 'Walt Disney', 'Starring': 'Robert Benchley Frances Gifford Buddy Pepper Nana Bryant', 'Cinematography': 'Bert Glennon', 'Edited by': 'Paul Weatherwax', 'Music by': 'Frank Churchill Larry Morey', 'Production company': 'Walt Disney Productions', 'Distributed by': 'RKO Radio Pictures', 'Release date': 'June 27, 1941 ( 1941-06-27 ) ', 'Running time': '74 minutes', 'Country': 'United States', 'Language': 'English', 'Budget': '$600,000 [2]', 'Box office': '$960,000 (worldwide rentals) [3]'}\n",
            "https://en.wikipedia.org/wiki/Dumbo\n",
            "{'title': 'Dumbo', 'Directed by': 'Supervising director Ben Sharpsteen Sequence directors Norman Ferguson Wilfred Jackson Bill Roberts Jack Kinney Samuel Armstrong', 'Story by': 'Joe Grant Dick Huemer', 'Based on': 'Dumbo, the Flying Elephant by Helen Aberson Harold Pearl', 'Produced by': 'Walt Disney', 'Starring': 'Edward Brophy Verna Felton Cliff Edwards Herman Bing Sterling Holloway Margaret Wright Hall Johnson Choir', 'Narrated by': 'John McLeish', 'Music by': 'Frank Churchill Oliver Wallace', 'Production company': 'Walt Disney Productions', 'Distributed by': 'RKO Radio Pictures', 'Release dates': 'October 23, 1941 ( 1941-10-23 ) (New York City)  October 31, 1941 ( 1941-10-31 ) (U.S.)', 'Running time': '64 minutes', 'Country': 'United States', 'Language': 'English', 'Budget': '$950,000 [2]', 'Box office': '>$1.3 million (est. United States/Canada rentals, 1941) [3]'}\n",
            "https://en.wikipedia.org/wiki/Bambi\n",
            "{'title': 'Bambi', 'Directed by': 'Supervising director David Hand Sequence directors James Algar Samuel Armstrong Graham Heid Bill Roberts Paul Satterfield Norman Wright', 'Story by': 'Story direction Perce Pearce Story adaptation Larry Morey Story development Vernon Stallings Melvin Shaw Carl Fallberg Chuck Couch Ralph Wright', 'Based on': 'Bambi, a Life in the Woods by Felix Salten', 'Produced by': 'Walt Disney', 'Starring': 'see below', 'Music by': 'Frank Churchill Edward H. Plumb', 'Production company': 'Walt Disney Productions', 'Distributed by': 'RKO Radio Pictures', 'Release dates': 'August 9, 1942 ( 1942-08-09 ) ( London ) August 21, 1942 ( 1942-08-21 ) (United States) ', 'Running time': '70 minutes', 'Country': 'United States', 'Language': 'English', 'Budget': '$858,000 [2]', 'Box office': '$267.4 million [3]'}\n",
            "https://en.wikipedia.org/wiki/Saludos_Amigos\n",
            "{'title': 'Saludos Amigos', 'Directed by': 'Norman Ferguson Wilfred Jackson Jack Kinney Hamilton Luske Bill Roberts', 'Story by': 'Homer Brightman William Cottrell Richard Huemer Joe Grant Harold Reeves Ted Sears Webb Smith Roy Williams Ralph Wright', 'Produced by': 'Walt Disney', 'Starring': 'Lee Blair Mary Blair Pinto Colvig Walt Disney Norman Ferguson Frank Graham Clarence Nash José Oliveira Frank Thomas', 'Narrated by': 'Fred Shields', 'Music by': 'Paul Smith Edward H. Plumb', 'Production company': 'Walt Disney Productions', 'Distributed by': 'RKO Radio Pictures', 'Release dates': 'August 24, 1942 ( 1942-08-24 ) (World Premiere – Rio de Janeiro) February 6, 1943 ( 1943-02-06 ) (U.S. Premiere – Boston) February 19, 1943 ( 1943-02-19 ) (U.S.) ', 'Running time': '42 minutes', 'Country': 'United States', 'Languages': 'English Portuguese Spanish', 'Box office': '$1.135 million (worldwide rentals) [2]'}\n",
            "https://en.wikipedia.org/wiki/Victory_Through_Air_Power_(film)\n",
            "{'title': 'Victory Through Air Power', 'Directed by': 'Animated sequences: James Algar Clyde Geronimi Jack Kinney de Seversky scenes: H.C. Potter', 'Written by': 'Story direction: Perce Pearce Story adaptation: T. Hee Erdman Penner Bill Cottrell James Brodero George Stallings Jose Rodriguez', 'Based on': 'Victory Through Air Power by Maj. Alexander P. Seversky', 'Produced by': 'Walt Disney', 'Starring': 'Alexander de Seversky', 'Narrated by': 'Art Baker', 'Cinematography': 'Ray Rennahan', 'Edited by': 'Jack Dennis', 'Music by': 'Edward H. Plumb Paul J. Smith Oliver Wallace', 'Production company': 'Walt Disney Productions', 'Distributed by': 'United Artists', 'Release date': 'July 17, 1943 ( 1943-07-17 )', 'Running time': '65 min', 'Country': 'United States', 'Language': 'English', 'Budget': '$788,000', 'Box office': '$799,000'}\n",
            "https://en.wikipedia.org/wiki/The_Three_Caballeros\n",
            "{'title': 'The Three Caballeros', 'Directed by': 'Supervising Director: Norman Ferguson Sequence Directors: Clyde Geronimi Jack Kinney Bill Roberts Harold Young', 'Story by': 'Homer Brightmen Ernest Terrazas Ted Sears Bill Peet Ralph Wright Elmer Plummer Roy Williams William Cottrell Del Connell James Bodrero', 'Produced by': 'Walt Disney', 'Starring': 'Clarence Nash José Oliveira Joaquin Garay', 'Music by': 'Edward H. Plumb Paul J. Smith Charles Wolcott', 'Production company': 'Walt Disney Productions', 'Distributed by': 'RKO Radio Pictures', 'Release dates': 'December 21, 1944 ( 1944-12-21 ) (Mexico City) February 3, 1945 ( 1945-02-03 ) (United States) ', 'Running time': '71 minutes', 'Country': 'United States', 'Languages': 'English Spanish Portuguese', 'Box office': '$3.355 million (worldwide rentals) [2]'}\n",
            "https://en.wikipedia.org/wiki/Make_Mine_Music\n",
            "{'title': 'Make Mine Music', 'Directed by': 'Jack Kinney Clyde Geronimi Hamilton Luske Joshua Meador Robert Cormack', 'Story by': 'James Bodrero Homer Brightman Erwin Graham Eric Gurney T. Hee Sylvia Holland Dick Huemer Dick Kelsey Dick Kinney Jesse Marsh Tom Oreb Cap Palmer Erdman Penner Dick Shaw Harry Reeves John Walbridge Roy Williams', 'Based on': '\" Casey at the Bat \" by Ernest Thayer Peter and the Wolf by Sergei Prokofiev', 'Produced by': 'Walt Disney', 'Starring': 'Nelson Eddy', 'Music by': 'Eliot Daniel Ken Darby Charles Wolcott Oliver Wallace Edward Plumb', 'Production company': 'Walt Disney Productions', 'Distributed by': 'RKO Radio Pictures, Inc.', 'Release dates': 'April 20, 1946 ( 1946-04-20 ) (New York City premiere)  August 15, 1946 ( 1946-08-15 ) (U.S.) ', 'Running time': '75 minutes', 'Country': 'United States', 'Language': 'English', 'Budget': '$1.35 million [2]', 'Box office': '$3.275 million (worldwide rentals) [3]'}\n",
            "https://en.wikipedia.org/wiki/Song_of_the_South\n",
            "{'title': 'Song of the South', 'Directed by': 'Live action: Harve Foster Animation: Wilfred Jackson', 'Screenplay by': 'Live action: Morton Grant Maurice Rapf Dalton S. Reymond Animation: Bill Peet George Stallings Ralph Wright', 'Based on': 'Uncle Remus by Joel Chandler Harris', 'Produced by': 'Walt Disney', 'Starring': 'Ruth Warrick Lucile Watson Hattie McDaniel James Baskett Bobby Driscoll Luana Patten', 'Cinematography': 'Gregg Toland', 'Edited by': 'William M. Morgan', 'Music by': 'Daniele Amfitheatrof Paul J. Smith', 'Production company': 'Walt Disney Productions', 'Distributed by': 'RKO Radio Pictures', 'Release dates': 'November 12, 1946 ( 1946-11-12 ) (premiere) November 20, 1946 ( 1946-11-20 )', 'Running time': '94 minutes ', 'Country': 'United States', 'Language': 'English', 'Budget': '$2.125 million [2]', 'Box office': '$65 million [3]'}\n",
            "https://en.wikipedia.org/wiki/Fun_and_Fancy_Free\n",
            "{'title': 'Fun and Fancy Free', 'Directed by': 'Jack Kinney (animation) Bill Roberts (animation) Hamilton Luske (animation) William Morgan (live-action)', 'Story by': 'Homer Brightman Eldon Dedini Lance Nolley Tom Oreb Harry Reeves Ted Sears', 'Based on': 'Little Bear Bongo by Sinclair Lewis ( Bongo ) Jack and the Beanstalk ( Mickey and the Beanstalk )', 'Produced by': 'Walt Disney', 'Starring': 'Cliff Edwards Edgar Bergen Luana Patten Walt Disney Clarence Nash Pinto Colvig Billy Gilbert Anita Gordon', 'Narrated by': 'Dinah Shore ( Bongo ) Edgar Bergen ( Mickey and the Beanstalk )', 'Edited by': 'Jack Bachom', 'Music by': 'Oliver Wallace Paul Smith Eliot Daniel Charles Wolcott', 'Production company': 'Walt Disney Productions', 'Distributed by': 'RKO Radio Pictures', 'Release date': 'September 27, 1947 ( 1947-09-27 )', 'Running time': '73 minutes', 'Country': 'United States', 'Language': 'English', 'Box office': '$3.165 million (worldwide rentals) '}\n",
            "https://en.wikipedia.org/wiki/Melody_Time\n",
            "{'title': 'Melody Time', 'Directed by': 'Clyde Geronimi Wilfred Jackson Hamilton Luske Jack Kinney', 'Written by': 'Winston Hibler Erdman Penner Harry Reeves Homer Brightman Ken Anderson Ted Sears Joe Rinaldi Bill Cottrell Art Scott Jesse Marsh Bob Moore John Walbridge', 'Produced by': 'Walt Disney', 'Starring': 'Roy Rogers Trigger Dennis Day The Andrews Sisters Fred Waring and the Pennsylvanians Freddy Martin Ethel Smith Frances Langford Buddy Clark', 'Edited by': 'Donald Halliday Thomas Scott', 'Music by': 'Eliot Daniel Paul J. Smith Ken Darby', 'Production company': 'Walt Disney Productions', 'Distributed by': 'RKO Radio Pictures, Inc.', 'Release date': 'May 27, 1948 ( 1948-05-27 )', 'Running time': '75 minutes', 'Country': 'United States', 'Language': 'English', 'Budget': '$1.5 million ', 'Box office': '$2.56 million (worldwide rentals) [2]'}\n",
            "https://en.wikipedia.org/wiki/So_Dear_to_My_Heart\n",
            "{'title': 'So Dear to My Heart', 'Directed by': 'Harold D. Schuster Hamilton Luske', 'Written by': 'Ken Anderson John Tucker Battle Marc Davis Bill Peet Maurice Rapf Ted Sears', 'Based on': 'Midnight and Jeremiah by Sterling North', 'Produced by': 'Walt Disney Perce Pearce', 'Starring': 'Burl Ives Beulah Bondi Harry Carey Luana Patten Bobby Driscoll', 'Cinematography': 'Winton C. Hoch', 'Edited by': 'Lloyd L. Richardson Thomas Scott', 'Music by': 'Paul Smith', 'Production company': 'Walt Disney Productions', 'Distributed by': 'RKO Radio Pictures, Inc.', 'Release dates': 'November 29, 1948 (Chicago, Illinois) January 19, 1949 (Indianapolis, Indiana) ', 'Running time': '82 minutes', 'Country': 'United States', 'Language': 'English', 'Budget': '$1.5 million [2]', 'Box office': '$3.7 million (U.S. rental) + $575,000 (foreign rental) [3] [4]'}\n",
            "https://en.wikipedia.org/wiki/The_Adventures_of_Ichabod_and_Mr._Toad\n",
            "{'title': 'The Adventures of Ichabod andMr. Toad', 'Directed by': 'Jack Kinney Clyde Geronimi James Algar', 'Story by': 'Erdman Penner Winston Hibler Joe Rinaldi Ted Sears Homer Brightman Harry Reeves', 'Based on': 'The Wind in the Willows by Kenneth Grahame The Legend of Sleepy Hollow by Washington Irving', 'Produced by': 'Walt Disney', 'Starring': \"Eric Blore J. Pat O'Malley John McLeish Colin Campbell Campbell Grant Claude Allister The Rhythmaires\", 'Narrated by': 'Basil Rathbone ( The Wind in the Willows ) Bing Crosby ( The Legend of Sleepy Hollow )', 'Edited by': 'John O. Young', 'Music by': 'Oliver Wallace Joseph Dubin (orchestration)', 'Production company': 'Walt Disney Productions', 'Distributed by': 'RKO Radio Pictures', 'Release date': 'October 5, 1949 ( 1949-10-05 )', 'Running time': '68 minutes', 'Country': 'United States', 'Language': 'English', 'Box office': '$1.625 million (worldwide rentals) '}\n",
            "https://en.wikipedia.org/wiki/Cinderella_(1950_film)\n",
            "{'title': 'Cinderella', 'Directed by': 'Hamilton Luske Wilfred Jackson Clyde Geronimi', 'Story by': 'William Peet Ted Sears Homer Brightman Kenneth Anderson Erdman Penner Winston Hibler Harry Reeves Joe Rinaldi', 'Based on': 'Cinderella by Charles Perrault', 'Produced by': 'Walt Disney', 'Starring': 'Ilene Woods Eleanor Audley Verna Felton Rhoda Williams James MacDonald Luis van Rooten Don Barclay Mike Douglas William Phipps Lucille Bliss', 'Edited by': 'Donald Halliday', 'Music by': 'Oliver Wallace Paul J. Smith', 'Production company': 'Walt Disney Productions', 'Distributed by': 'RKO Radio Pictures', 'Release dates': 'February 15, 1950 ( 1950-02-15 ) (Boston) March 4, 1950 ( 1950-03-04 ) (United States)', 'Running time': '74 minutes ', 'Country': 'United States', 'Language': 'English', 'Budget': '$2.2 million [2] [3]', 'Box office': '$182 million [4]'}\n",
            "https://en.wikipedia.org/wiki/Treasure_Island_(1950_film)\n",
            "{'title': 'Treasure Island', 'Directed by': 'Byron Haskin', 'Written by': 'Lawrence Edward Watkin', 'Based on': 'Treasure Island by Robert Louis Stevenson', 'Produced by': 'Walt Disney Perce Pearce', 'Starring': 'Bobby Driscoll Robert Newton Basil Sydney Finlay Currie', 'Cinematography': 'Freddie Young', 'Edited by': 'Alan Jaggs', 'Music by': 'Clifton Parker', 'Production company': 'RKO-Walt Disney British Productions ', 'Distributed by': 'RKO Radio Pictures', 'Release dates': 'June 22, 1950 ( 1950-06-22 ) (World Premiere-London) [2] July 29, 1950 ( 1950-07-29 ) (US) [2]', 'Running time': '96 minutes', 'Countries': 'United States United Kingdom', 'Language': 'English', 'Budget': '$1,800,000 [3]', 'Box office': '$4,100,000 (worldwide rentals) [4]'}\n",
            "https://en.wikipedia.org/wiki/Alice_in_Wonderland_(1951_film)\n",
            "{'title': 'Alice in Wonderland', 'Directed by': 'Clyde Geronimi Wilfred Jackson Hamilton Luske', 'Story by': 'Winston Hibler Ted Sears Bill Peet Erdman Penner Joe Rinaldi Milt Banta Bill Cottrell Dick Kelsey Joe Grant Dick Huemer Del Connell Tom Oreb John Walbridge', 'Based on': \"Alice's Adventures in Wonderland and Through the Looking-Glass by Lewis Carroll\", 'Produced by': 'Walt Disney', 'Starring': \"Ed Wynn Richard Haydn Sterling Holloway Jerry Colonna Verna Felton J. Pat O'Malley Bill Thompson Joseph Kearns Dink Trout James MacDonald Kathryn Beaumont\", 'Edited by': 'Lloyd Richardson', 'Music by': 'Oliver Wallace', 'Production company': 'Walt Disney Productions', 'Distributed by': 'RKO Radio Pictures', 'Release dates': 'July 26, 1951 ( 1951-07-26 ) (London, premiere)  July 28, 1951 ( 1951-07-28 ) (New York City, premiere)  September 14, 1951 ( 1951-09-14 ) (United States)', 'Running time': '75 minutes [2]', 'Country': 'United States', 'Language': 'English', 'Budget': '$3 million [3]', 'Box office': '$2.4 million (1951, domestic) $3.5 million (1974, domestic)'}\n",
            "https://en.wikipedia.org/wiki/The_Story_of_Robin_Hood_(film)\n",
            "{'title': 'The Story of Robin Hood', 'Directed by': 'Ken Annakin', 'Written by': 'Lawrence Edward Watkin', 'Produced by': 'Perce Pearce Walt Disney', 'Starring': 'Richard Todd Joan Rice Peter Finch', 'Cinematography': 'Guy Green', 'Edited by': 'Gordon Pilkington', 'Music by': 'Clifton Parker', 'Production company': 'RKO-Walt Disney British Productions  [2]', 'Distributed by': 'RKO Radio Pictures', 'Release dates': '13 March 1952 ( 1952-03-13 ) (Premiere-London) [3] 26 June 1952 ( 1952-06-26 ) (US) [3]', 'Running time': '84 minutes', 'Countries': 'United States United Kingdom', 'Language': 'English', 'Box office': '$2.1 million (US rentals) [4]'}\n",
            "https://en.wikipedia.org/wiki/Peter_Pan_(1953_film)\n",
            "{'title': 'Peter Pan', 'Directed by': 'Clyde Geronimi Wilfred Jackson Hamilton Luske', 'Story by': 'Milt Banta Bill Cottrell Winston Hibler Bill Peet Erdman Penner Joe Rinaldi Ted Sears Ralph Wright', 'Based on': 'Peter and Wendy by J. M. Barrie', 'Produced by': 'Walt Disney', 'Starring': 'Bobby Driscoll Kathryn Beaumont Hans Conried Paul Collins', 'Narrated by': 'Tom Conway', 'Music by': 'Oliver Wallace', 'Production company': 'Walt Disney Productions', 'Distributed by': 'RKO Radio Pictures', 'Release date': 'February 5, 1953 ( 1953-02-05 ) (United States) ', 'Running time': '77 minutes', 'Country': 'United States', 'Language': 'English', 'Budget': '$4 million [2]', 'Box office': '$87.4 million (United States and Canada) [2]'}\n",
            "https://en.wikipedia.org/wiki/The_Sword_and_the_Rose\n",
            "{'title': 'The Sword and the Rose', 'Directed by': 'Ken Annakin', 'Written by': 'Lawrence Edward Watkin (screenplay) Charles Major (novel \"When Knighthood was in Flower\")', 'Produced by': 'Perce Pearce Walt Disney', 'Starring': 'Glynis Johns James Robertson Justice Richard Todd Michael Gough Jane Barrett Peter Copley Ernest Jay Jean Mercure D. A. Clarke-Smith Gérard Oury Fernand Fabre Gaston Richer Rosalie Crutchley Bryan Coleman', 'Cinematography': 'Geoffrey Unsworth', 'Edited by': 'Gerald Thomas', 'Music by': 'Clifton Parker', 'Production company': 'RKO-Walt Disney British Productions ', 'Distributed by': 'RKO Radio Pictures', 'Release date': 'July 23, 1953 ( 1953-07-23 ) (US) [2]', 'Running time': '92 minutes', 'Countries': 'United Kingdom United States', 'Language': 'English', 'Budget': '$2 million [3]', 'Box office': '$1 million (US) [4]'}\n",
            "https://en.wikipedia.org/wiki/The_Living_Desert\n",
            "{'title': 'The Living Desert', 'Directed by': 'James Algar', 'Written by': 'James Algar Winston Hibler', 'Produced by': 'Ben Sharpsteen Walt Disney', 'Narrated by': 'Winston Hibler', 'Cinematography': 'Robert H. Crandall N. Paul Kenworthy', 'Edited by': 'Norman R. Palmer', 'Music by': 'Paul J. Smith', 'Production company': 'Walt Disney Productions', 'Distributed by': 'Buena Vista Distribution', 'Release date': 'November 10, 1953 ( 1953-11-10 )', 'Running time': '69 minutes', 'Country': 'United States', 'Language': 'English', 'Budget': '$300,000', 'Box office': '$2.6 million (US) '}\n",
            "https://en.wikipedia.org/wiki/Rob_Roy:_The_Highland_Rogue\n",
            "{'title': 'Rob Roy: The Highland Rogue', 'Directed by': 'Harold French', 'Written by': 'Lawrence Edward Watkin', 'Produced by': 'Perce Pearce Walt Disney', 'Starring': 'Richard Todd Glynis Johns James Robertson Justice Michael Gough Finlay Currie Geoffrey Keen', 'Cinematography': 'Guy Green', 'Edited by': 'Geoffrey Foot', 'Music by': 'Cedric Thorpe Davie', 'Production company': 'RKO-Walt Disney British Productions ', 'Distributed by': 'RKO Radio Pictures', 'Release dates': '26 October 1953 ( 1953-10-26 ) (Premiere- London ) [2] 27 February 1954 ( 1954-02-27 ) ( US ) [2]', 'Running time': '81 minutes', 'Countries': 'United Kingdom United States', 'Language': 'English', 'Budget': '$1.8 million [3]'}\n",
            "https://en.wikipedia.org/wiki/The_Vanishing_Prairie\n",
            "{'title': 'The Vanishing Prairie', 'Directed by': 'James Algar', 'Written by': 'James Algar Winston Hibler', 'Produced by': 'Ben Sharpsteen Walt Disney', 'Narrated by': 'Winston Hibler', 'Cinematography': 'N. Paul Kenworthy', 'Edited by': 'Lloyd L. Richardson', 'Music by': 'Paul J. Smith', 'Production company': 'Walt Disney Productions', 'Distributed by': 'Buena Vista Film Distribution', 'Release date': 'August 17, 1954 ( 1954-08-17 )', 'Running time': '60 minutes (VHS and Wild Discovery version) 71 minutes (original)', 'Country': 'United States', 'Language': 'English', 'Box office': '$1.75 million (US and Canadian rentals) '}\n",
            "https://en.wikipedia.org/wiki/20,000_Leagues_Under_the_Sea_(1954_film)\n",
            "{'title': '20,000 Leagues Under the Sea', 'Directed by': 'Richard Fleischer', 'Screenplay by': 'Earl Felton', 'Based on': 'Twenty Thousand Leagues Under the Seas by Jules Verne', 'Produced by': 'Walt Disney', 'Starring': 'Kirk Douglas James Mason Paul Lukas Peter Lorre', 'Cinematography': 'Franz Planer', 'Edited by': 'Elmo Williams', 'Music by': 'Paul Smith', 'Production company': 'Walt Disney Productions', 'Distributed by': 'Buena Vista Distribution', 'Release date': 'December 23, 1954 ( 1954-12-23 )', 'Running time': '127 minutes', 'Country': 'United States', 'Language': 'English', 'Budget': '$5 million ', 'Box office': '$28.2 million [2]'}\n",
            "https://en.wikipedia.org/wiki/Davy_Crockett:_King_of_the_Wild_Frontier_(film)\n",
            "{'title': 'Davy Crockett: King of the Wild Frontier', 'Directed by': 'Norman Foster', 'Written by': 'Tom Blackburn', 'Produced by': 'Bill Walsh', 'Starring': 'Fess Parker Buddy Ebsen', 'Cinematography': 'Charles P. Boyle', 'Edited by': 'Chester W. Schaeffer', 'Music by': 'Thomas W. Blackburn (lyrics) George Bruns Edward H. Plumb (orchestration)', 'Production company': 'Walt Disney Productions', 'Distributed by': 'Buena Vista Film Distribution Co., Inc.', 'Release date': 'May 25, 1955 ( 1955-05-25 )', 'Running time': '93 minutes', 'Country': 'United States', 'Language': 'English', 'Box office': '$2,150,000 (US) '}\n",
            "https://en.wikipedia.org/wiki/Lady_and_the_Tramp\n",
            "{'title': 'Lady and the Tramp', 'Directed by': 'Clyde Geronimi Wilfred Jackson Hamilton Luske', 'Story by': 'Erdman Penner Joe Rinaldi Ralph Wright Don DaGradi Joe Grant', 'Based on': '\"Happy Dan, The Cynical Dog\" by Ward Greene', 'Produced by': 'Walt Disney', 'Starring': 'Barbara Luddy Larry Roberts Bill Thompson Dallas McKennon Bill Baucom Verna Felton Peggy Lee', 'Edited by': 'Don Halliday', 'Music by': 'Oliver Wallace', 'Production company': 'Walt Disney Productions', 'Distributed by': 'Buena Vista Film Distribution', 'Release date': 'June 22, 1955 ( 1955-06-22 )', 'Running time': '76 minutes', 'Country': 'United States', 'Language': 'English', 'Budget': '$4 million ', 'Box office': '$187 million [2]'}\n",
            "https://en.wikipedia.org/wiki/The_African_Lion\n",
            "{'title': 'The African Lion', 'Directed by': 'James Algar', 'Written by': 'James Algar Winston Hibler', 'Produced by': 'Ben Sharpsteen', 'Narrated by': 'Winston Hibler', 'Cinematography': 'Alfred Milotte Elma Milotte', 'Edited by': 'Norman R. Palmer', 'Music by': 'Paul J. Smith', 'Production company': 'Walt Disney Productions', 'Distributed by': 'Buena Vista Distribution', 'Release date': 'September 14, 1955 ( 1955-09-14 ) ', 'Running time': '75 minutes', 'Country': 'United States', 'Language': 'English', 'Box office': '$2.1 million (US) [2]'}\n",
            "https://en.wikipedia.org/wiki/The_Littlest_Outlaw\n",
            "{'title': 'The Littlest Outlaw', 'Directed by': 'Roberto Gavaldón', 'Starring': 'Pedro Armendáriz Joseph Calleia Andrés Velázquez', 'Production company': 'Walt Disney Productions', 'Distributed by': 'Buena Vista Distribution', 'Release date': 'December 22, 1955 ( 1955-12-22 )', 'Running time': '73 minutes', 'Countries': 'United States, Mexico', 'Languages': 'English, Spanish', 'Box office': '$1.6 million (US) '}\n",
            "https://en.wikipedia.org/wiki/The_Great_Locomotive_Chase\n",
            "{'title': 'The Great Locomotive Chase', 'Directed by': 'Francis D. Lyon', 'Written by': 'Lawrence Edward Watkin', 'Produced by': 'Lawrence Edward Watkin Walt Disney', 'Starring': 'Fess Parker Jeffrey Hunter John Lupton Jeff York Slim Pickens', 'Cinematography': 'Charles Boyle', 'Edited by': 'Ellsworth Hoagland', 'Music by': 'Paul J. Smith', 'Production company': 'Walt Disney Productions', 'Distributed by': 'Buena Vista Distribution', 'Release date': 'June 8, 1956 ', 'Running time': '85 minutes', 'Country': 'United States', 'Language': 'English', 'Box office': '$1.7 million (US) [2]'}\n",
            "https://en.wikipedia.org/wiki/Davy_Crockett_and_the_River_Pirates\n",
            "{'title': 'Davy Crockett and the River Pirates', 'Directed by': 'Norman Foster', 'Written by': 'Tom Blackburn Norman Foster', 'Produced by': 'Bill Walsh', 'Starring': 'Fess Parker Buddy Ebsen Jeff York', 'Cinematography': 'Bert Glennon', 'Edited by': 'Stanley Johnson', 'Music by': 'Thomas W. Blackburn (lyrics) George Bruns Edward H. Plumb (orchestration)', 'Color process': 'Technicolor', 'Production company': 'Walt Disney Productions', 'Distributed by': 'Buena Vista Film Distribution Co., Inc.', 'Release date': 'July 18, 1956 ( 1956-07-18 )', 'Running time': '81 minutes', 'Country': 'United States', 'Language': 'English'}\n",
            "https://en.wikipedia.org/wiki/Secrets_of_Life\n",
            "{'title': 'Secrets of Life', 'Directed by': 'James Algar', 'Written by': 'James Algar', 'Produced by': 'Ben Sharpsteen', 'Narrated by': 'Winston Hibler', 'Cinematography': 'William A. Anderson Arthur Carter Jack Couffer Robert H. Crandall Murl Deusing Fran William Hall Claude Jendrusch Stuart V. Jewell George MacGinitie Nettie MacGinitie Tilden W. Roberts Donald L. Sykes Roman Vishniac', 'Edited by': 'Anthony Gerard', 'Music by': 'Paul Smith', 'Production company': 'Walt Disney Productions', 'Distributed by': 'Buena Vista Distribution', 'Release date': 'September 4, 1956 ( 1956-09-04 )', 'Running time': '70 minutes', 'Country': 'United States', 'Language': 'English'}\n",
            "https://en.wikipedia.org/wiki/Westward_Ho_the_Wagons!\n",
            "{'title': 'Westward Ho the Wagons!', 'Directed by': 'William Beaudine', 'Screenplay by': 'Tom Blackburn', 'Based on': 'Children of the Covered Wagon by Mary Jane Carr', 'Produced by': 'Bill Walsh', 'Starring': 'Fess Parker Kathleen Crowley Jeff York Sebastian Cabot George Reeves David Stollery', 'Cinematography': 'Charles P. Boyle , A.S.C.', 'Edited by': 'Cotton Warburton , A.C.E.', 'Music by': 'George Bruns', 'Production company': 'Walt Disney Productions', 'Distributed by': 'Buena Vista Distribution', 'Release date': 'December 20, 1956 ( 1956-12-20 )', 'Running time': '90 min.', 'Country': 'United States', 'Language': 'English', 'Box office': '$2.75 million (US) '}\n",
            "https://en.wikipedia.org/wiki/Johnny_Tremain_(film)\n",
            "{'title': 'Johnny Tremain', 'Directed by': 'Robert Stevenson', 'Written by': 'Esther Forbes Tom Blackburn', 'Produced by': 'Walt Disney', 'Starring': 'Hal Stalmaster Luana Patten Jeff York Sebastian Cabot', 'Cinematography': 'Charles P. Boyle', 'Edited by': 'Stanley E. Johnson', 'Music by': 'George Bruns Tom Blackburn (lyrics) Song \"Liberty Tree\" by George Bruns and Tom Blackburn', 'Production company': 'Walt Disney Productions', 'Distributed by': 'Buena Vista Distribution', 'Release date': 'June 19, 1957 ( 1957-06-19 )', 'Running time': '80 minutes', 'Country': 'United States', 'Language': 'English', 'Budget': '$700,000 '}\n",
            "https://en.wikipedia.org/wiki/Perri_(film)\n",
            "{'title': 'Perri', 'Directed by': 'N. Paul Kenworthy Ralph Wright', 'Written by': 'Ralph Wright Winston Hibler Felix Salten ( Book )', 'Produced by': 'Winston Hibler', 'Narrated by': 'Winston Hibler', 'Edited by': 'Jack Atwood', 'Music by': 'Score : Paul J. Smith Songs : George Bruns Winston Hibler Ralph Wright Paul J. Smith Hazel \"Gil\" George Song arrangements : Carl Brandt Orchestrations : Carl Brandt Franklyn Marks', 'Production company': 'Walt Disney Productions', 'Distributed by': 'Buena Vista Distribution', 'Release date': 'August 28, 1957 ( 1957-08-28 )', 'Running time': '75 minutes', 'Country': 'United States', 'Language': 'English', 'Box office': '$1.75 million (US rentals) '}\n",
            "https://en.wikipedia.org/wiki/Old_Yeller_(film)\n",
            "{'title': 'Old Yeller', 'Directed by': 'Robert Stevenson', 'Screenplay by': 'Fred Gipson William Tunberg', 'Based on': 'Old Yeller by Fred Gipson', 'Produced by': 'Walt Disney', 'Starring': 'Dorothy McGuire Fess Parker', 'Cinematography': 'Charles P. Boyle', 'Edited by': 'Stanley E. Johnson', 'Music by': 'Oliver Wallace Will Schaefer', 'Color process': 'Technicolor', 'Production company': 'Walt Disney Productions', 'Distributed by': 'Buena Vista Distribution', 'Release date': 'December 25, 1957 ( 1957-12-25 )', 'Running time': '84 minutes', 'Country': 'United States', 'Language': 'English', 'Box office': '$6,250,000 (U.S./Canada rentals) '}\n",
            "https://en.wikipedia.org/wiki/The_Light_in_the_Forest_(film)\n",
            "{'title': 'The Light in the Forest', 'Directed by': 'Herschel Daugherty', 'Written by': 'Lawrence Edward Watkin', 'Based on': 'novel by Conrad Richter', 'Produced by': 'Walt Disney', 'Starring': 'Fess Parker Wendell Corey Joanne Dru James MacArthur Jessica Tandy', 'Cinematography': 'Ellsworth Fredericks', 'Music by': 'Paul J. Smith Franklyn Marks (orchestration)', 'Production company': 'Walt Disney Productions', 'Distributed by': 'Buena Vista Distribution', 'Release date': 'July 8, 1958 ( 1958-07-08 )', 'Running time': '83 minutes', 'Country': 'United States', 'Language': 'English'}\n",
            "https://en.wikipedia.org/wiki/White_Wilderness_(film)\n",
            "{'title': 'White Wilderness', 'Directed by': 'James Algar', 'Written by': 'James Algar', 'Produced by': 'Ben Sharpsteen , Walt Disney', 'Narrated by': 'Winston Hibler', 'Edited by': 'Norman R. Palmer', 'Music by': 'Oliver Wallace', 'Production company': 'Walt Disney Productions', 'Distributed by': 'Buena Vista Distribution', 'Release date': 'August 12, 1958 ( 1958-08-12 )', 'Running time': '72 minutes', 'Countries': 'United States Canada', 'Language': 'English', 'Box office': '$1.8 million (est. US/Canada rentals) '}\n",
            "https://en.wikipedia.org/wiki/Tonka_(film)\n",
            "{'title': 'Tonka', 'Directed by': 'Lewis R. Foster', 'Written by': 'David Appel Lewis R. Foster Lillie Hayward', 'Based on': \"Comanche: Story of America's Most Heroic Horse by David Appel\", 'Produced by': 'James C. Pratt John Lasseter', 'Starring': 'Sal Mineo Philip Carey Jerome Courtland Rafael Campos', 'Cinematography': 'Loyal Griggs', 'Edited by': 'Ellsworth Hoagland', 'Music by': 'Oliver Wallace', 'Color process': 'Technicolor', 'Production company': 'Walt Disney Productions', 'Distributed by': 'Buena Vista Distribution', 'Release date': 'December 25, 1958 ( 1958-12-25 )', 'Running time': '97 minutes', 'Country': 'United States', 'Language': 'English', 'Box office': '$2.5 million (est. US/ Canada rentals) '}\n",
            "https://en.wikipedia.org/wiki/Sleeping_Beauty_(1959_film)\n",
            "{'title': 'Sleeping Beauty', 'Directed by': 'Supervising Director Clyde Geronimi Sequence Directors Wolfgang Reitherman Eric Larson Les Clark', 'Story by': 'Erdman Penner', 'Based on': '\" Sleeping Beauty \" by Charles Perrault', 'Produced by': 'Walt Disney', 'Starring': 'Mary Costa Bill Shirley Eleanor Audley Verna Felton Barbara Luddy Barbara Jo Allen Taylor Holmes Bill Thompson', 'Narrated by': 'Marvin Miller', 'Edited by': 'Roy M. Brewer Jr. Donald Halliday', 'Music by': 'George Bruns', 'Production company': 'Walt Disney Productions', 'Distributed by': 'Buena Vista Distribution', 'Release date': 'January 29, 1959 ( 1959-01-29 ) ', 'Running time': '75 minutes', 'Country': 'United States', 'Language': 'English', 'Budget': '$6 million [2]', 'Box office': '$51.6 million (United States and Canada) [3]'}\n",
            "https://en.wikipedia.org/wiki/The_Shaggy_Dog_(1959_film)\n",
            "{'title': 'The Shaggy Dog', 'Directed by': 'Charles Barton', 'Written by': 'Lillie Hayward Bill Walsh', 'Based on': 'The Hound of Florence by Felix Salten', 'Produced by': 'Walt Disney Bill Walsh', 'Starring': 'Fred MacMurray Jean Hagen Tommy Kirk Annette Funicello Tim Considine Kevin Corcoran', 'Cinematography': 'Edward Colman', 'Edited by': 'James Ballas', 'Music by': 'Paul J. Smith', 'Production company': 'Walt Disney Productions', 'Distributed by': 'Buena Vista Distribution', 'Release date': 'March 19, 1959 ( 1959-03-19 )', 'Running time': '104 minutes', 'Country': 'United States', 'Language': 'English', 'Budget': 'under $1 million  or $1,250,000 [2]', 'Box office': '$12.3 million (US and Canada rentals) [3]'}\n",
            "https://en.wikipedia.org/wiki/Darby_O%27Gill_and_the_Little_People\n",
            "{'title': \"Darby O'Gill and the Little People\", 'Directed by': 'Robert Stevenson', 'Written by': 'H. T. Kavanagh (stories) Lawrence Edward Watkin', 'Produced by': 'Bill Anderson Walt Disney', 'Starring': \"Albert Sharpe Janet Munro Sean Connery Jimmy O'Dea Kieron Moore Estelle Winwood Walter Fitzgerald\", 'Cinematography': 'Winton Hoch', 'Edited by': 'Stanley Johnson', 'Music by': 'Oliver Wallace', 'Production company': 'Walt Disney Productions', 'Distributed by': 'Buena Vista Distribution', 'Release dates': 'June 24, 1959 ( 1959-06-24 ) (Dublin)  June 26, 1959 ( 1959-06-26 ) (Los Angeles) ', 'Running time': '93 minutes', 'Country': 'United States', 'Language': 'English', 'Box office': 'Original release : $2.6 million (est. US/ Canada rentals) [2] 1969 re-release : $2.3 million  (US/ Canada rentals) [3]'}\n",
            "https://en.wikipedia.org/wiki/Zorro_(1957_TV_series)#Theatrical\n"
          ]
        },
        {
          "output_type": "error",
          "ename": "AttributeError",
          "evalue": "ignored",
          "traceback": [
            "\u001b[0;31m---------------------------------------------------------------------------\u001b[0m",
            "\u001b[0;31mAttributeError\u001b[0m                            Traceback (most recent call last)",
            "\u001b[0;32m<ipython-input-147-78375ac93cad>\u001b[0m in \u001b[0;36m<module>\u001b[0;34m\u001b[0m\n\u001b[1;32m     16\u001b[0m \u001b[0;34m\u001b[0m\u001b[0m\n\u001b[1;32m     17\u001b[0m         \u001b[0;31m#print(soups)\u001b[0m\u001b[0;34m\u001b[0m\u001b[0;34m\u001b[0m\u001b[0;34m\u001b[0m\u001b[0m\n\u001b[0;32m---> 18\u001b[0;31m \u001b[0mprofileSoupGenerator\u001b[0m\u001b[0;34m(\u001b[0m\u001b[0msoup\u001b[0m\u001b[0;34m,\u001b[0m\u001b[0;34m\"1031886\"\u001b[0m\u001b[0;34m)\u001b[0m\u001b[0;34m\u001b[0m\u001b[0;34m\u001b[0m\u001b[0m\n\u001b[0m",
            "\u001b[0;32m<ipython-input-147-78375ac93cad>\u001b[0m in \u001b[0;36mprofileSoupGenerator\u001b[0;34m(pageSoup, barNUM)\u001b[0m\n\u001b[1;32m     10\u001b[0m         \u001b[0mnestedPage\u001b[0m\u001b[0;34m=\u001b[0m \u001b[0mrequests\u001b[0m\u001b[0;34m.\u001b[0m\u001b[0mget\u001b[0m\u001b[0;34m(\u001b[0m\u001b[0mstr\u001b[0m\u001b[0;34m(\u001b[0m\u001b[0ml\u001b[0m\u001b[0;34m)\u001b[0m\u001b[0;34m)\u001b[0m\u001b[0;34m\u001b[0m\u001b[0;34m\u001b[0m\u001b[0m\n\u001b[1;32m     11\u001b[0m         \u001b[0mmovie_soup\u001b[0m \u001b[0;34m=\u001b[0m \u001b[0mBeautifulSoup\u001b[0m\u001b[0;34m(\u001b[0m\u001b[0mnestedPage\u001b[0m\u001b[0;34m.\u001b[0m\u001b[0mcontent\u001b[0m\u001b[0;34m,\u001b[0m\u001b[0;34m'html.parser'\u001b[0m\u001b[0;34m)\u001b[0m\u001b[0;34m\u001b[0m\u001b[0;34m\u001b[0m\u001b[0m\n\u001b[0;32m---> 12\u001b[0;31m         \u001b[0mgetMoviesDetails\u001b[0m\u001b[0;34m(\u001b[0m\u001b[0mmovie_soup\u001b[0m\u001b[0;34m)\u001b[0m\u001b[0;34m\u001b[0m\u001b[0;34m\u001b[0m\u001b[0m\n\u001b[0m\u001b[1;32m     13\u001b[0m       \u001b[0;32melse\u001b[0m\u001b[0;34m:\u001b[0m\u001b[0;34m\u001b[0m\u001b[0;34m\u001b[0m\u001b[0m\n\u001b[1;32m     14\u001b[0m         \u001b[0;32mcontinue\u001b[0m\u001b[0;34m\u001b[0m\u001b[0;34m\u001b[0m\u001b[0m\n",
            "\u001b[0;32m<ipython-input-146-ed72d1b1b620>\u001b[0m in \u001b[0;36mgetMoviesDetails\u001b[0;34m(Psoup)\u001b[0m\n\u001b[1;32m     15\u001b[0m     \u001b[0;32melse\u001b[0m\u001b[0;34m:\u001b[0m\u001b[0;34m\u001b[0m\u001b[0;34m\u001b[0m\u001b[0m\n\u001b[1;32m     16\u001b[0m       \u001b[0mth\u001b[0m\u001b[0;34m=\u001b[0m\u001b[0mclean_br\u001b[0m \u001b[0;34m(\u001b[0m\u001b[0mrow\u001b[0m\u001b[0;34m)\u001b[0m\u001b[0;34m\u001b[0m\u001b[0;34m\u001b[0m\u001b[0m\n\u001b[0;32m---> 17\u001b[0;31m       \u001b[0mtd\u001b[0m\u001b[0;34m=\u001b[0m\u001b[0mrow\u001b[0m\u001b[0;34m.\u001b[0m\u001b[0mfind\u001b[0m\u001b[0;34m(\u001b[0m\u001b[0;34m'td'\u001b[0m\u001b[0;34m)\u001b[0m\u001b[0;34m.\u001b[0m\u001b[0mget_text\u001b[0m\u001b[0;34m(\u001b[0m\u001b[0;34m\" \"\u001b[0m\u001b[0;34m,\u001b[0m\u001b[0mstrip\u001b[0m\u001b[0;34m=\u001b[0m\u001b[0;32mTrue\u001b[0m\u001b[0;34m)\u001b[0m\u001b[0;34m.\u001b[0m\u001b[0mstrip\u001b[0m\u001b[0;34m(\u001b[0m\u001b[0;34m)\u001b[0m\u001b[0;34m.\u001b[0m\u001b[0mreplace\u001b[0m\u001b[0;34m(\u001b[0m\u001b[0;34m\"\\n\"\u001b[0m\u001b[0;34m,\u001b[0m\u001b[0;34m\",\"\u001b[0m\u001b[0;34m)\u001b[0m\u001b[0;34m.\u001b[0m\u001b[0mreplace\u001b[0m\u001b[0;34m(\u001b[0m\u001b[0;34m\"\\xa0\"\u001b[0m\u001b[0;34m,\u001b[0m\u001b[0;34m\" \"\u001b[0m\u001b[0;34m)\u001b[0m\u001b[0;34m.\u001b[0m\u001b[0mreplace\u001b[0m\u001b[0;34m(\u001b[0m\u001b[0;34m\"[1]\"\u001b[0m\u001b[0;34m,\u001b[0m\u001b[0;34m\"\"\u001b[0m\u001b[0;34m)\u001b[0m\u001b[0;34m\u001b[0m\u001b[0;34m\u001b[0m\u001b[0m\n\u001b[0m\u001b[1;32m     18\u001b[0m       \u001b[0mmovies\u001b[0m\u001b[0;34m[\u001b[0m\u001b[0mth\u001b[0m\u001b[0;34m]\u001b[0m\u001b[0;34m=\u001b[0m\u001b[0mtd\u001b[0m\u001b[0;34m\u001b[0m\u001b[0;34m\u001b[0m\u001b[0m\n\u001b[1;32m     19\u001b[0m   \u001b[0mprint\u001b[0m\u001b[0;34m(\u001b[0m\u001b[0mmovies\u001b[0m\u001b[0;34m)\u001b[0m\u001b[0;34m\u001b[0m\u001b[0;34m\u001b[0m\u001b[0m\n",
            "\u001b[0;31mAttributeError\u001b[0m: 'NoneType' object has no attribute 'get_text'"
          ]
        }
      ]
    }
  ]
}